{
 "cells": [
  {
   "cell_type": "code",
   "execution_count": 8,
   "metadata": {},
   "outputs": [
    {
     "name": "stderr",
     "output_type": "stream",
     "text": [
      "[nltk_data] Downloading package stopwords to\n",
      "[nltk_data]     C:\\Users\\HP\\AppData\\Roaming\\nltk_data...\n",
      "[nltk_data]   Package stopwords is already up-to-date!\n"
     ]
    }
   ],
   "source": [
    "import pandas as pd\n",
    "import re\n",
    "from sklearn.model_selection import train_test_split\n",
    "from nltk.stem import PorterStemmer\n",
    "import nltk\n",
    "nltk.download('stopwords')\n",
    "from nltk.corpus import stopwords\n",
    "from nltk.corpus import stopwords\n",
    "from nltk.stem import WordNetLemmatizer\n",
    "from collections import Counter\n",
    "import matplotlib.pyplot as plt\n",
    "lemmatizer = WordNetLemmatizer()\n",
    "stemmer = PorterStemmer()\n"
   ]
  },
  {
   "cell_type": "code",
   "execution_count": 5,
   "metadata": {},
   "outputs": [
    {
     "name": "stdout",
     "output_type": "stream",
     "text": [
      "<bound method NDFrame.head of                                                  review sentiment\n",
      "0     Starts really well, nice intro and build up fo...  negative\n",
      "1     Terrific movie: If you did not watch yet, you ...  positive\n",
      "2     I've seen hundreds of silent movies. Some will...  positive\n",
      "3     i had been looking for this film for so long b...  positive\n",
      "4     Good: Engaging cinematic firefights, great pre...  positive\n",
      "...                                                 ...       ...\n",
      "9995  I almost made a fool of myself when I was goin...  negative\n",
      "9996  I feel it is my duty as a lover of horror film...  negative\n",
      "9997  Why was this film made? What were the creators...  negative\n",
      "9998  If it is true that sadomasochism is a two-side...  positive\n",
      "9999  Now I did watch this when it first came out on...  negative\n",
      "\n",
      "[10000 rows x 2 columns]>\n"
     ]
    }
   ],
   "source": [
    "file_path = \"E:\\Projects\\Sentiment Analysis Project DEPI\\IMDB_Balanced_10000_Rows.csv\"\n",
    "df = pd.read_csv(file_path)\n",
    "print(df.head)"
   ]
  },
  {
   "cell_type": "code",
   "execution_count": 6,
   "metadata": {},
   "outputs": [
    {
     "ename": "LookupError",
     "evalue": "\n**********************************************************************\n  Resource \u001b[93mstopwords\u001b[0m not found.\n  Please use the NLTK Downloader to obtain the resource:\n\n  \u001b[31m>>> import nltk\n  >>> nltk.download('stopwords')\n  \u001b[0m\n  For more information see: https://www.nltk.org/data.html\n\n  Attempted to load \u001b[93mcorpora/stopwords\u001b[0m\n\n  Searched in:\n    - 'C:\\\\Users\\\\HP/nltk_data'\n    - 'c:\\\\Users\\\\HP\\\\anaconda3\\\\nltk_data'\n    - 'c:\\\\Users\\\\HP\\\\anaconda3\\\\share\\\\nltk_data'\n    - 'c:\\\\Users\\\\HP\\\\anaconda3\\\\lib\\\\nltk_data'\n    - 'C:\\\\Users\\\\HP\\\\AppData\\\\Roaming\\\\nltk_data'\n    - 'C:\\\\nltk_data'\n    - 'D:\\\\nltk_data'\n    - 'E:\\\\nltk_data'\n**********************************************************************\n",
     "output_type": "error",
     "traceback": [
      "\u001b[1;31m---------------------------------------------------------------------------\u001b[0m",
      "\u001b[1;31mLookupError\u001b[0m                               Traceback (most recent call last)",
      "File \u001b[1;32mc:\\Users\\HP\\anaconda3\\Lib\\site-packages\\nltk\\corpus\\util.py:84\u001b[0m, in \u001b[0;36mLazyCorpusLoader.__load\u001b[1;34m(self)\u001b[0m\n\u001b[0;32m     83\u001b[0m \u001b[38;5;28;01mtry\u001b[39;00m:\n\u001b[1;32m---> 84\u001b[0m     root \u001b[38;5;241m=\u001b[39m nltk\u001b[38;5;241m.\u001b[39mdata\u001b[38;5;241m.\u001b[39mfind(\u001b[38;5;124mf\u001b[39m\u001b[38;5;124m\"\u001b[39m\u001b[38;5;132;01m{\u001b[39;00m\u001b[38;5;28mself\u001b[39m\u001b[38;5;241m.\u001b[39msubdir\u001b[38;5;132;01m}\u001b[39;00m\u001b[38;5;124m/\u001b[39m\u001b[38;5;132;01m{\u001b[39;00mzip_name\u001b[38;5;132;01m}\u001b[39;00m\u001b[38;5;124m\"\u001b[39m)\n\u001b[0;32m     85\u001b[0m \u001b[38;5;28;01mexcept\u001b[39;00m \u001b[38;5;167;01mLookupError\u001b[39;00m:\n",
      "File \u001b[1;32mc:\\Users\\HP\\anaconda3\\Lib\\site-packages\\nltk\\data.py:579\u001b[0m, in \u001b[0;36mfind\u001b[1;34m(resource_name, paths)\u001b[0m\n\u001b[0;32m    578\u001b[0m resource_not_found \u001b[38;5;241m=\u001b[39m \u001b[38;5;124mf\u001b[39m\u001b[38;5;124m\"\u001b[39m\u001b[38;5;130;01m\\n\u001b[39;00m\u001b[38;5;132;01m{\u001b[39;00msep\u001b[38;5;132;01m}\u001b[39;00m\u001b[38;5;130;01m\\n\u001b[39;00m\u001b[38;5;132;01m{\u001b[39;00mmsg\u001b[38;5;132;01m}\u001b[39;00m\u001b[38;5;130;01m\\n\u001b[39;00m\u001b[38;5;132;01m{\u001b[39;00msep\u001b[38;5;132;01m}\u001b[39;00m\u001b[38;5;130;01m\\n\u001b[39;00m\u001b[38;5;124m\"\u001b[39m\n\u001b[1;32m--> 579\u001b[0m \u001b[38;5;28;01mraise\u001b[39;00m \u001b[38;5;167;01mLookupError\u001b[39;00m(resource_not_found)\n",
      "\u001b[1;31mLookupError\u001b[0m: \n**********************************************************************\n  Resource \u001b[93mstopwords\u001b[0m not found.\n  Please use the NLTK Downloader to obtain the resource:\n\n  \u001b[31m>>> import nltk\n  >>> nltk.download('stopwords')\n  \u001b[0m\n  For more information see: https://www.nltk.org/data.html\n\n  Attempted to load \u001b[93mcorpora/stopwords.zip/stopwords/\u001b[0m\n\n  Searched in:\n    - 'C:\\\\Users\\\\HP/nltk_data'\n    - 'c:\\\\Users\\\\HP\\\\anaconda3\\\\nltk_data'\n    - 'c:\\\\Users\\\\HP\\\\anaconda3\\\\share\\\\nltk_data'\n    - 'c:\\\\Users\\\\HP\\\\anaconda3\\\\lib\\\\nltk_data'\n    - 'C:\\\\Users\\\\HP\\\\AppData\\\\Roaming\\\\nltk_data'\n    - 'C:\\\\nltk_data'\n    - 'D:\\\\nltk_data'\n    - 'E:\\\\nltk_data'\n**********************************************************************\n",
      "\nDuring handling of the above exception, another exception occurred:\n",
      "\u001b[1;31mLookupError\u001b[0m                               Traceback (most recent call last)",
      "Cell \u001b[1;32mIn[6], line 2\u001b[0m\n\u001b[0;32m      1\u001b[0m \u001b[38;5;66;03m# stop words to be removed later\u001b[39;00m\n\u001b[1;32m----> 2\u001b[0m custom_stopwords \u001b[38;5;241m=\u001b[39m \u001b[38;5;28mset\u001b[39m(stopwords\u001b[38;5;241m.\u001b[39mwords(\u001b[38;5;124m'\u001b[39m\u001b[38;5;124menglish\u001b[39m\u001b[38;5;124m'\u001b[39m))  \n\u001b[0;32m      3\u001b[0m \u001b[38;5;66;03m# Make sure 'review' is a valid column name\u001b[39;00m\n\u001b[0;32m      4\u001b[0m \u001b[38;5;28mprint\u001b[39m(df\u001b[38;5;241m.\u001b[39mcolumns)\n",
      "File \u001b[1;32mc:\\Users\\HP\\anaconda3\\Lib\\site-packages\\nltk\\corpus\\util.py:120\u001b[0m, in \u001b[0;36mLazyCorpusLoader.__getattr__\u001b[1;34m(self, attr)\u001b[0m\n\u001b[0;32m    117\u001b[0m \u001b[38;5;28;01mif\u001b[39;00m attr \u001b[38;5;241m==\u001b[39m \u001b[38;5;124m\"\u001b[39m\u001b[38;5;124m__bases__\u001b[39m\u001b[38;5;124m\"\u001b[39m:\n\u001b[0;32m    118\u001b[0m     \u001b[38;5;28;01mraise\u001b[39;00m \u001b[38;5;167;01mAttributeError\u001b[39;00m(\u001b[38;5;124m\"\u001b[39m\u001b[38;5;124mLazyCorpusLoader object has no attribute \u001b[39m\u001b[38;5;124m'\u001b[39m\u001b[38;5;124m__bases__\u001b[39m\u001b[38;5;124m'\u001b[39m\u001b[38;5;124m\"\u001b[39m)\n\u001b[1;32m--> 120\u001b[0m \u001b[38;5;28mself\u001b[39m\u001b[38;5;241m.\u001b[39m__load()\n\u001b[0;32m    121\u001b[0m \u001b[38;5;66;03m# This looks circular, but its not, since __load() changes our\u001b[39;00m\n\u001b[0;32m    122\u001b[0m \u001b[38;5;66;03m# __class__ to something new:\u001b[39;00m\n\u001b[0;32m    123\u001b[0m \u001b[38;5;28;01mreturn\u001b[39;00m \u001b[38;5;28mgetattr\u001b[39m(\u001b[38;5;28mself\u001b[39m, attr)\n",
      "File \u001b[1;32mc:\\Users\\HP\\anaconda3\\Lib\\site-packages\\nltk\\corpus\\util.py:86\u001b[0m, in \u001b[0;36mLazyCorpusLoader.__load\u001b[1;34m(self)\u001b[0m\n\u001b[0;32m     84\u001b[0m             root \u001b[38;5;241m=\u001b[39m nltk\u001b[38;5;241m.\u001b[39mdata\u001b[38;5;241m.\u001b[39mfind(\u001b[38;5;124mf\u001b[39m\u001b[38;5;124m\"\u001b[39m\u001b[38;5;132;01m{\u001b[39;00m\u001b[38;5;28mself\u001b[39m\u001b[38;5;241m.\u001b[39msubdir\u001b[38;5;132;01m}\u001b[39;00m\u001b[38;5;124m/\u001b[39m\u001b[38;5;132;01m{\u001b[39;00mzip_name\u001b[38;5;132;01m}\u001b[39;00m\u001b[38;5;124m\"\u001b[39m)\n\u001b[0;32m     85\u001b[0m         \u001b[38;5;28;01mexcept\u001b[39;00m \u001b[38;5;167;01mLookupError\u001b[39;00m:\n\u001b[1;32m---> 86\u001b[0m             \u001b[38;5;28;01mraise\u001b[39;00m e\n\u001b[0;32m     88\u001b[0m \u001b[38;5;66;03m# Load the corpus.\u001b[39;00m\n\u001b[0;32m     89\u001b[0m corpus \u001b[38;5;241m=\u001b[39m \u001b[38;5;28mself\u001b[39m\u001b[38;5;241m.\u001b[39m__reader_cls(root, \u001b[38;5;241m*\u001b[39m\u001b[38;5;28mself\u001b[39m\u001b[38;5;241m.\u001b[39m__args, \u001b[38;5;241m*\u001b[39m\u001b[38;5;241m*\u001b[39m\u001b[38;5;28mself\u001b[39m\u001b[38;5;241m.\u001b[39m__kwargs)\n",
      "File \u001b[1;32mc:\\Users\\HP\\anaconda3\\Lib\\site-packages\\nltk\\corpus\\util.py:81\u001b[0m, in \u001b[0;36mLazyCorpusLoader.__load\u001b[1;34m(self)\u001b[0m\n\u001b[0;32m     79\u001b[0m \u001b[38;5;28;01melse\u001b[39;00m:\n\u001b[0;32m     80\u001b[0m     \u001b[38;5;28;01mtry\u001b[39;00m:\n\u001b[1;32m---> 81\u001b[0m         root \u001b[38;5;241m=\u001b[39m nltk\u001b[38;5;241m.\u001b[39mdata\u001b[38;5;241m.\u001b[39mfind(\u001b[38;5;124mf\u001b[39m\u001b[38;5;124m\"\u001b[39m\u001b[38;5;132;01m{\u001b[39;00m\u001b[38;5;28mself\u001b[39m\u001b[38;5;241m.\u001b[39msubdir\u001b[38;5;132;01m}\u001b[39;00m\u001b[38;5;124m/\u001b[39m\u001b[38;5;132;01m{\u001b[39;00m\u001b[38;5;28mself\u001b[39m\u001b[38;5;241m.\u001b[39m__name\u001b[38;5;132;01m}\u001b[39;00m\u001b[38;5;124m\"\u001b[39m)\n\u001b[0;32m     82\u001b[0m     \u001b[38;5;28;01mexcept\u001b[39;00m \u001b[38;5;167;01mLookupError\u001b[39;00m \u001b[38;5;28;01mas\u001b[39;00m e:\n\u001b[0;32m     83\u001b[0m         \u001b[38;5;28;01mtry\u001b[39;00m:\n",
      "File \u001b[1;32mc:\\Users\\HP\\anaconda3\\Lib\\site-packages\\nltk\\data.py:579\u001b[0m, in \u001b[0;36mfind\u001b[1;34m(resource_name, paths)\u001b[0m\n\u001b[0;32m    577\u001b[0m sep \u001b[38;5;241m=\u001b[39m \u001b[38;5;124m\"\u001b[39m\u001b[38;5;124m*\u001b[39m\u001b[38;5;124m\"\u001b[39m \u001b[38;5;241m*\u001b[39m \u001b[38;5;241m70\u001b[39m\n\u001b[0;32m    578\u001b[0m resource_not_found \u001b[38;5;241m=\u001b[39m \u001b[38;5;124mf\u001b[39m\u001b[38;5;124m\"\u001b[39m\u001b[38;5;130;01m\\n\u001b[39;00m\u001b[38;5;132;01m{\u001b[39;00msep\u001b[38;5;132;01m}\u001b[39;00m\u001b[38;5;130;01m\\n\u001b[39;00m\u001b[38;5;132;01m{\u001b[39;00mmsg\u001b[38;5;132;01m}\u001b[39;00m\u001b[38;5;130;01m\\n\u001b[39;00m\u001b[38;5;132;01m{\u001b[39;00msep\u001b[38;5;132;01m}\u001b[39;00m\u001b[38;5;130;01m\\n\u001b[39;00m\u001b[38;5;124m\"\u001b[39m\n\u001b[1;32m--> 579\u001b[0m \u001b[38;5;28;01mraise\u001b[39;00m \u001b[38;5;167;01mLookupError\u001b[39;00m(resource_not_found)\n",
      "\u001b[1;31mLookupError\u001b[0m: \n**********************************************************************\n  Resource \u001b[93mstopwords\u001b[0m not found.\n  Please use the NLTK Downloader to obtain the resource:\n\n  \u001b[31m>>> import nltk\n  >>> nltk.download('stopwords')\n  \u001b[0m\n  For more information see: https://www.nltk.org/data.html\n\n  Attempted to load \u001b[93mcorpora/stopwords\u001b[0m\n\n  Searched in:\n    - 'C:\\\\Users\\\\HP/nltk_data'\n    - 'c:\\\\Users\\\\HP\\\\anaconda3\\\\nltk_data'\n    - 'c:\\\\Users\\\\HP\\\\anaconda3\\\\share\\\\nltk_data'\n    - 'c:\\\\Users\\\\HP\\\\anaconda3\\\\lib\\\\nltk_data'\n    - 'C:\\\\Users\\\\HP\\\\AppData\\\\Roaming\\\\nltk_data'\n    - 'C:\\\\nltk_data'\n    - 'D:\\\\nltk_data'\n    - 'E:\\\\nltk_data'\n**********************************************************************\n"
     ]
    }
   ],
   "source": [
    "# stop words to be removed later\n",
    "custom_stopwords = set(stopwords.words('english'))  \n",
    "# Make sure 'review' is a valid column name\n",
    "print(df.columns)  "
   ]
  },
  {
   "cell_type": "code",
   "execution_count": null,
   "metadata": {},
   "outputs": [
    {
     "name": "stdout",
     "output_type": "stream",
     "text": [
      "                                              review  \\\n",
      "0  Starts really well, nice intro and build up fo...   \n",
      "1  Terrific movie: If you did not watch yet, you ...   \n",
      "2  I've seen hundreds of silent movies. Some will...   \n",
      "3  i had been looking for this film for so long b...   \n",
      "4  Good: Engaging cinematic firefights, great pre...   \n",
      "5  I say this. If you want to see art, you go to ...   \n",
      "6  Hey, it's only TV. Sure, it's STAR TREK, the m...   \n",
      "7  this movie has lot of downsides and thats all ...   \n",
      "8  How can you tell that a horror movie is terrib...   \n",
      "9  Brian De Palma's undeniable virtuosity can't r...   \n",
      "\n",
      "                                    processed_review  \n",
      "0  start realli well nice intro build main charac...  \n",
      "1  terrif movi watch yet must watch geena davi sa...  \n",
      "2  seen hundr silent movi alway classic nosferatu...  \n",
      "3  look film long found seen younger love second ...  \n",
      "4  good engag cinemat firefight great present veh...  \n",
      "5  say want see art go art galleri want see movi ...  \n",
      "6  hey tv sure star trek belov bla bla great one ...  \n",
      "7  movi lot downsid that could see pain long aw d...  \n",
      "8  tell horror movi terribl stop laugh cours plot...  \n",
      "9  brian de palma undeni virtuos realli camouflag...  \n"
     ]
    }
   ],
   "source": [
    "def preprocess_text(text):\n",
    "    if isinstance(text, str):  # Ensure text is a string\n",
    "      ## CLEANING\n",
    "      # remove special characters\n",
    "      text = re.sub(r'\\W+', ' ', text)  \n",
    "      # remove digits\n",
    "      text = re.sub(r'\\d+', '', text)\n",
    "      ## LOWERCASING\n",
    "      text = text.lower()\n",
    "      ## TOKENIZATION\n",
    "      words = text.split()\n",
    "      ## REMOVE STOPWORDS\n",
    "      words = [w for w in words if w not in custom_stopwords] \n",
    "      ## APPLY LEMMATIZATION\n",
    "      words = [lemmatizer.lemmatize(w) for w in words]\n",
    "      ## APPLY STEMMING\n",
    "      words = [stemmer.stem(w) for w in words]\n",
    "      return ' '.join(words)\n",
    "    return \"\"\n",
    "\n",
    "# Apply preprocessing\n",
    "df['processed_review'] = df['review'].apply(preprocess_text)\n",
    "# Show original vs processed text\n",
    "print(df[['review', 'processed_review']].head(10))  "
   ]
  },
  {
   "cell_type": "code",
   "execution_count": null,
   "metadata": {},
   "outputs": [
    {
     "data": {
      "image/png": "[encoded data removed]",
      "text/plain": [
       "<Figure size 1000x500 with 1 Axes>"
      ]
     },
     "metadata": {},
     "output_type": "display_data"
    }
   ],
   "source": [
    "# BAG OF WORDS ASSUMPTION\n",
    "word_counts = Counter(\" \".join(df[\"processed_review\"]).split())\n",
    "# Get word frequencies\n",
    "occurrences_values = list(word_counts.values())\n",
    "\n",
    "# Plot histogram to help decide the threshold that will be used to remove rare words later\n",
    "# threshold here is the minimum number of occurrences for one word so that it will not be considered as a rare word\n",
    "plt.figure(figsize=(10, 5))\n",
    "plt.hist(occurrences_values, bins=range(1, 21), edgecolor='black')  # Only show words appearing ≤ 20 times \n",
    "plt.yscale('log')  # Log scale helps visualize better\n",
    "plt.xlabel(\"Number of Occurrences\")\n",
    "plt.ylabel(\"Number of Words\")\n",
    "plt.title(\"Word Occurrences Distribution\")\n",
    "plt.show()"
   ]
  },
  {
   "cell_type": "code",
   "execution_count": null,
   "metadata": {},
   "outputs": [
    {
     "name": "stdout",
     "output_type": "stream",
     "text": [
      "                                    processed_review  \\\n",
      "0  start realli well nice intro build main charac...   \n",
      "1  terrif movi watch yet must watch geena davi sa...   \n",
      "2  seen hundr silent movi alway classic nosferatu...   \n",
      "3  look film long found seen younger love second ...   \n",
      "4  good engag cinemat firefight great present veh...   \n",
      "5  say want see art go art galleri want see movi ...   \n",
      "6  hey tv sure star trek belov bla bla great one ...   \n",
      "7  movi lot downsid that could see pain long aw d...   \n",
      "8  tell horror movi terribl stop laugh cours plot...   \n",
      "9  brian de palma undeni virtuos realli camouflag...   \n",
      "\n",
      "                                   processed_review2  \n",
      "0  start realli well nice intro build main charac...  \n",
      "1  terrif movi watch yet must watch geena davi sa...  \n",
      "2  seen hundr silent movi alway classic nosferatu...  \n",
      "3  look film long found seen younger love second ...  \n",
      "4  good engag cinemat firefight great present veh...  \n",
      "5  say want see art go art galleri want see movi ...  \n",
      "6  hey tv sure star trek belov bla bla great one ...  \n",
      "7  movi lot downsid that could see pain long aw d...  \n",
      "8  tell horror movi terribl stop laugh cours plot...  \n",
      "9  brian de palma undeni realli camouflag fact pl...  \n"
     ]
    }
   ],
   "source": [
    "## REMOVE RARE WORDS\n",
    "# Most words appear very few times (1-5 occurrences)\n",
    "# The count drops significantly as frequency increases  \n",
    "# we will take a threshold of 4 which Keeps moderately rare words that might still carry meaning but Removes very infrequent words that could add noise\n",
    "\n",
    "threshold = 4\n",
    "# Identify rare words\n",
    "rare_words = {w for w, c in word_counts.items() if c <= threshold}  \n",
    "\n",
    "def remove_rare_words(text):\n",
    "    if isinstance(text, str):  # Ensure text is a string\n",
    "        words = text.split()\n",
    "        return ' '.join([w for w in words if w not in rare_words])\n",
    "    return \"\"\n",
    "\n",
    "# Apply to dataset\n",
    "df['processed_review2'] = df['processed_review'].apply(remove_rare_words)\n",
    "\n",
    "# Check results\n",
    "print(df[['processed_review', 'processed_review2']].head(10))\n"
   ]
  },
  {
   "cell_type": "code",
   "execution_count": null,
   "metadata": {},
   "outputs": [
    {
     "name": "stdout",
     "output_type": "stream",
     "text": [
      "Training set size: 8000\n",
      "Testing set size: 2000\n",
      "Training Data:\n",
      "                                                 review sentiment\n",
      "9254  The makers have chosen the best people for the...  positive\n",
      "1561  Obviously, there wasn't a huge budget for this...  positive\n",
      "1670  I turned this off within the first five minute...  negative\n",
      "6087  I just want to say that I am so glad somebody ...  positive\n",
      "6669  What was I thinking when I rented this one? Wh...  negative\n",
      "\n",
      "Testing Data:\n",
      "                                                 review sentiment\n",
      "6252  Wow - Thank god I was on an airplane and could...  negative\n",
      "4684  Not only was the plot of this film contrived w...  negative\n",
      "1731  This movie has the most beautiful opening sequ...  positive\n",
      "4742  For three quarters of an hour, the story gradu...  negative\n",
      "4521  It's been a long time since such an original, ...  positive\n"
     ]
    }
   ],
   "source": [
    "X = df['review']  \n",
    "y = df['sentiment']  \n",
    "\n",
    "X_train, X_test, y_train, y_test = train_test_split(X, y, test_size=0.2, random_state=42)\n",
    "\n",
    "print(\"Training set size:\", len(X_train))\n",
    "print(\"Testing set size:\", len(X_test))\n",
    "\n",
    "# ////////////////////////////////\n",
    "print(\"Training Data:\")\n",
    "print(pd.DataFrame({'review': X_train, 'sentiment': y_train}).head())\n",
    "\n",
    "print(\"\\nTesting Data:\")\n",
    "print(pd.DataFrame({'review': X_test, 'sentiment': y_test}).head())"
   ]
  }
 ],
 "metadata": {
  "kernelspec": {
   "display_name": "base",
   "language": "python",
   "name": "python3"
  },
  "language_info": {
   "codemirror_mode": {
    "name": "ipython",
    "version": 3
   },
   "file_extension": ".py",
   "mimetype": "text/x-python",
   "name": "python",
   "nbconvert_exporter": "python",
   "pygments_lexer": "ipython3",
   "version": "3.11.5"
  }
 },
 "nbformat": 4,
 "nbformat_minor": 2
}
