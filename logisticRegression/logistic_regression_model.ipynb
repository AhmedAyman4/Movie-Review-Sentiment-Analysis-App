{
 "cells": [
  {
   "cell_type": "code",
   "execution_count": 1,
   "id": "77afe817",
   "metadata": {},
   "outputs": [
    {
     "name": "stderr",
     "output_type": "stream",
     "text": [
      "[nltk_data] Downloading package stopwords to\n",
      "[nltk_data]     C:\\Users\\HP\\AppData\\Roaming\\nltk_data...\n",
      "[nltk_data]   Package stopwords is already up-to-date!\n"
     ]
    },
    {
     "data": {
      "text/plain": [
       "True"
      ]
     },
     "execution_count": 1,
     "metadata": {},
     "output_type": "execute_result"
    }
   ],
   "source": [
    "import pandas as pd\n",
    "import numpy as np\n",
    "import re\n",
    "from nltk.stem import WordNetLemmatizer\n",
    "lemmatizer = WordNetLemmatizer()\n",
    "import nltk\n",
    "import joblib\n",
    "from nltk.corpus import stopwords\n",
    "from sklearn.feature_extraction.text import TfidfVectorizer\n",
    "from sklearn.linear_model import LogisticRegression\n",
    "from sklearn.metrics import accuracy_score, classification_report, confusion_matrix\n",
    "\n",
    "# Download stopwords if not available\n",
    "nltk.download(\"stopwords\")"
   ]
  },
  {
   "cell_type": "code",
   "execution_count": 2,
   "id": "81daad97",
   "metadata": {},
   "outputs": [],
   "source": [
    "# ---------------------- Load & Preprocess Dataset ----------------------\n",
    "def preprocess_text(text):\n",
    "    text = text.lower()\n",
    "    text = re.sub(r\"\\W\", \" \", text)\n",
    "    text = re.sub(r\"\\s+\", \" \", text).strip()\n",
    "    stop_words = set(stopwords.words(\"english\"))\n",
    "    words = [word for word in text.split() if word not in stop_words]\n",
    "    words = [lemmatizer.lemmatize(word) for word in words]\n",
    "    return \" \".join(words)\n",
    "\n",
    "def load_and_preprocess_data(train_path, test_path=None):\n",
    "    # Load training data\n",
    "    train_df = pd.read_csv(train_path)\n",
    "    \n",
    "    # Apply text preprocessing\n",
    "    train_df[\"cleaned_review\"] = train_df[\"review\"].astype(str).apply(preprocess_text)\n",
    "    \n",
    "    # Load test data if provided\n",
    "    test_df = None\n",
    "    if test_path:\n",
    "        test_df = pd.read_csv(test_path)\n",
    "        test_df[\"cleaned_review\"] = test_df[\"review\"].astype(str).apply(preprocess_text)\n",
    "    \n",
    "    return train_df, test_df\n"
   ]
  },
  {
   "cell_type": "code",
   "execution_count": 3,
   "id": "7f7d375a",
   "metadata": {},
   "outputs": [],
   "source": [
    "# ---------------------- Train Logistic Regression Model ----------------------\n",
    "def train_logistic_regression_model(train_df, max_features=5000, ngram_range=(1, 2), max_iter=500):\n",
    "    vectorizer = TfidfVectorizer(max_features=max_features, ngram_range=ngram_range)\n",
    "    X_train_tfidf = vectorizer.fit_transform(train_df[\"cleaned_review\"])\n",
    "    y_train = train_df[\"sentiment\"]\n",
    "\n",
    "    model_lr = LogisticRegression(max_iter=max_iter)\n",
    "    model_lr.fit(X_train_tfidf, y_train)\n",
    "    \n",
    "    return model_lr, vectorizer"
   ]
  },
  {
   "cell_type": "code",
   "execution_count": 4,
   "id": "56b239a5",
   "metadata": {},
   "outputs": [],
   "source": [
    "# ---------------------- TF-IDF Logistic Regression Sentiment Prediction ----------------------\n",
    "def predict_sentiment_tfidf(text, model_lr=None, vectorizer=None):\n",
    "    \"\"\"Predict sentiment using the Logistic Regression model.\"\"\"\n",
    "    if model_lr is None or vectorizer is None:\n",
    "        # Load model and vectorizer if not provided\n",
    "        model_lr = joblib.load(\"sentiment_model.pkl\")\n",
    "        vectorizer = joblib.load(\"tfidf_vectorizer.pkl\")\n",
    "        \n",
    "    processed_review = preprocess_text(text)\n",
    "    review_tfidf = vectorizer.transform([processed_review])\n",
    "    prediction = model_lr.predict(review_tfidf)[0]\n",
    "    return prediction"
   ]
  },
  {
   "cell_type": "code",
   "execution_count": 5,
   "id": "f7c25599",
   "metadata": {},
   "outputs": [],
   "source": [
    "# ---------------------- Test Model Accuracy ----------------------\n",
    "def test_model_accuracy(test_df, model_lr=None, vectorizer=None):\n",
    "    \"\"\"Test the accuracy of the model on a test dataset.\"\"\"\n",
    "    if model_lr is None or vectorizer is None:\n",
    "        # Load model and vectorizer if not provided\n",
    "        model_lr = joblib.load(\"sentiment_model.pkl\")\n",
    "        vectorizer = joblib.load(\"tfidf_vectorizer.pkl\")\n",
    "    \n",
    "    # Transform test data\n",
    "    X_test_tfidf = vectorizer.transform(test_df[\"cleaned_review\"])\n",
    "    y_test = test_df[\"sentiment\"]\n",
    "    \n",
    "    # Make predictions\n",
    "    y_pred = model_lr.predict(X_test_tfidf)\n",
    "    \n",
    "    # Calculate accuracy and other metrics\n",
    "    accuracy = accuracy_score(y_test, y_pred)\n",
    "    report = classification_report(y_test, y_pred)\n",
    "    conf_matrix = confusion_matrix(y_test, y_pred)\n",
    "    \n",
    "    print(f\"Accuracy: {accuracy:.4f}\")\n",
    "    print(\"\\nClassification Report:\")\n",
    "    print(report)\n",
    "    print(\"\\nConfusion Matrix:\")\n",
    "    print(conf_matrix)\n",
    "    \n",
    "    return accuracy, report, conf_matrix"
   ]
  },
  {
   "cell_type": "code",
   "execution_count": 8,
   "id": "c6e43d3a",
   "metadata": {},
   "outputs": [
    {
     "name": "stdout",
     "output_type": "stream",
     "text": [
      "Saving trained model and vectorizer...\n",
      "Model and vectorizer saved successfully.\n"
     ]
    }
   ],
   "source": [
    "train_path = r\"train_data.csv\"\n",
    "test_path = r\"test_data.csv\"  # Using train data as test for demonstration (ideally use separate test data)\n",
    "\n",
    "# Load and preprocess data\n",
    "train_df, test_df = load_and_preprocess_data(train_path, test_path)\n",
    "\n",
    "# Train the model\n",
    "model_lr, vectorizer = train_logistic_regression_model(train_df)\n",
    "\n",
    "# Save the trained model and vectorizer\n",
    "print(\"Saving trained model and vectorizer...\")\n",
    "joblib.dump(model_lr, \"sentiment_model.pkl\")\n",
    "joblib.dump(vectorizer, \"tfidf_vectorizer.pkl\")\n",
    "print(\"Model and vectorizer saved successfully.\")"
   ]
  },
  {
   "cell_type": "code",
   "execution_count": 10,
   "id": "94471f55",
   "metadata": {},
   "outputs": [
    {
     "name": "stdout",
     "output_type": "stream",
     "text": [
      "Testing model accuracy...\n",
      "Accuracy: 0.8704\n",
      "\n",
      "Classification Report:\n",
      "              precision    recall  f1-score   support\n",
      "\n",
      "    negative       0.89      0.84      0.87       992\n",
      "    positive       0.85      0.90      0.87      1006\n",
      "\n",
      "    accuracy                           0.87      1998\n",
      "   macro avg       0.87      0.87      0.87      1998\n",
      "weighted avg       0.87      0.87      0.87      1998\n",
      "\n",
      "\n",
      "Confusion Matrix:\n",
      "[[833 159]\n",
      " [100 906]]\n"
     ]
    }
   ],
   "source": [
    "# Test the model's accuracy\n",
    "if test_df is not None:\n",
    "    print(\"Testing model accuracy...\")\n",
    "    accuracy, report, conf_matrix = test_model_accuracy(test_df, model_lr, vectorizer)"
   ]
  },
  {
   "cell_type": "code",
   "execution_count": 11,
   "id": "43a0a6c4",
   "metadata": {},
   "outputs": [
    {
     "name": "stdout",
     "output_type": "stream",
     "text": [
      "\n",
      "Sample Review: This movie was absolutely fantastic! Great acting and storyline.\n",
      "Predicted Sentiment: positive\n"
     ]
    }
   ],
   "source": [
    "# Example prediction\n",
    "sample_review = \"This movie was absolutely fantastic! Great acting and storyline.\"\n",
    "prediction = predict_sentiment_tfidf(sample_review, model_lr, vectorizer)\n",
    "print(f\"\\nSample Review: {sample_review}\")\n",
    "print(f\"Predicted Sentiment: {prediction}\")"
   ]
  }
 ],
 "metadata": {
  "kernelspec": {
   "display_name": "venv",
   "language": "python",
   "name": "python3"
  },
  "language_info": {
   "codemirror_mode": {
    "name": "ipython",
    "version": 3
   },
   "file_extension": ".py",
   "mimetype": "text/x-python",
   "name": "python",
   "nbconvert_exporter": "python",
   "pygments_lexer": "ipython3",
   "version": "3.11.5"
  }
 },
 "nbformat": 4,
 "nbformat_minor": 5
}
